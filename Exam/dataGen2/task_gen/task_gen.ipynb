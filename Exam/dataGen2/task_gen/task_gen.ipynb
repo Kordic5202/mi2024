{
 "cells": [
  {
   "cell_type": "markdown",
   "metadata": {},
   "source": [
    "## Завдання на практичну частину екзамену з дисципліни МІАЗ.\n",
    "\n",
    "### Білет {{number}}\n",
    "\n",
    "Створити прототип інформаційно-аналітичної системи для відображення інформації щодо {{field1}}  за останні {{count}} днів на основі наданого [шаблону](https://github.com/RomanMykolaichuk/mi2024_exam.git).\n",
    "\n",
    "1. База даних {{name}}. Створити таблицю та заповнити її даними за допомогою sql-файлів з шаблону.\n",
    "2. Backend  на основі python FastAPI (налаштувати параметри підключення до бази даних, та прописати оператор SELECT для вибірки необхідних полів: \n",
    "date, location, [поле відповідно до завдання] as data_field)\n",
    "3. Frontend на основі html (), \n",
    "    css(), \n",
    "    JS ()\n",
    "\n",
    "4. Кольорова схема має відповідати основному кольору {{Color}} відповідно до [брендбуку ЗСУ](https://warbooks.com.ua/contents/brendbuk-zsu-kerivnitstvo-iz-vikoristannya-grafichnogo-stilyu-u-vizualniy-komunikatsii.pdf?srsltid=AfmBOoqPSCMz7np5jhyARDjpQAd0hYVCR9xHb58ZbN5QyNOJMjQsFvh1).\n",
    "\n"
   ]
  },
  {
   "cell_type": "markdown",
   "metadata": {},
   "source": []
  }
 ],
 "metadata": {
  "language_info": {
   "name": "python"
  }
 },
 "nbformat": 4,
 "nbformat_minor": 2
}
