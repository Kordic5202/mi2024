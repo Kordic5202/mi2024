{
 "cells": [
  {
   "cell_type": "markdown",
   "metadata": {},
   "source": [
    "# ℹ️ Інформація про мене\n",
    "\n",
    "## 📌 Особисті дані:\n",
    "- **🧑‍💻 Ім'я:** Євген Кордік  \n",
    "- **🎓 Група:** 5202  \n",
    "- **📧 Email:** [evgenil777121112@gmail.com](mailto:evgenil777121112@gmail.com)  \n",
    "\n",
    "## 🎯 Мої захоплення:\n",
    "1. 🖥️ Програмування  \n",
    "2. 📚 Читання книг  \n",
    "3. ⚽ Спорт  \n"
   ]
  },
  {
   "cell_type": "code",
   "execution_count": 4,
   "metadata": {},
   "outputs": [
    {
     "name": "stdout",
     "output_type": "stream",
     "text": [
      "Привіт, це моя перша робота з Jupyter Notebook у VS Code!\n",
      "Сьогодні я вивчаю змінні та їх типи в Python.\n",
      "\n",
      "📌 Інформація про мене:\n",
      "Ім'я: Євген Кордік\n",
      "Вік: 25\n",
      "Зріст: 1.8\n",
      "Студент: True\n",
      "Хобі: ['спорт', 'книги', 'програмування']\n",
      "Оцінки: {'математика': 90, 'інформатика': 95}\n",
      "\n",
      "📌 Типи змінних:\n",
      "Тип змінної name: <class 'str'>\n",
      "Тип змінної age: <class 'int'>\n",
      "Тип змінної height: <class 'float'>\n",
      "Тип змінної is_student: <class 'bool'>\n",
      "Тип змінної hobby: <class 'list'>\n",
      "Тип змінної grades: <class 'dict'>\n",
      "\n",
      "Мене звати Євген Кордік, мені 25 років, мій зріст 1.8м.\n",
      "Я студент: True. Моє улюблене хобі - програмування.\n",
      "Моя оцінка з інформатики: 95.\n"
     ]
    }
   ],
   "source": [
    "# Вивід привітального повідомлення\n",
    "print(\"Привіт, це моя перша робота з Jupyter Notebook у VS Code!\")\n",
    "print(\"Сьогодні я вивчаю змінні та їх типи в Python.\\n\")\n",
    "\n",
    "# Оголошення змінних різних типів\n",
    "name = \"Євген Кордік\"   # str (рядок)\n",
    "age = 25                # int (ціле число)\n",
    "height = 1.80           # float (дійсне число)\n",
    "is_student = True       # bool (логічне значення)\n",
    "hobby = [\"спорт\", \"книги\", \"програмування\"]  # list (список)\n",
    "grades = {\"математика\": 90, \"інформатика\": 95}  # dict (словник)\n",
    "\n",
    "# Виведення значень змінних\n",
    "print(\"📌 Інформація про мене:\")\n",
    "print(\"Ім'я:\", name)\n",
    "print(\"Вік:\", age)\n",
    "print(\"Зріст:\", height)\n",
    "print(\"Студент:\", is_student)\n",
    "print(\"Хобі:\", hobby)\n",
    "print(\"Оцінки:\", grades)\n",
    "\n",
    "# Виведення типів змінних\n",
    "print(\"\\n📌 Типи змінних:\")\n",
    "print(\"Тип змінної name:\", type(name))\n",
    "print(\"Тип змінної age:\", type(age))\n",
    "print(\"Тип змінної height:\", type(height))\n",
    "print(\"Тип змінної is_student:\", type(is_student))\n",
    "print(\"Тип змінної hobby:\", type(hobby))\n",
    "print(\"Тип змінної grades:\", type(grades))\n",
    "\n",
    "# Додатковий тест: форматований вивід\n",
    "print(f\"\\nМене звати {name}, мені {age} років, мій зріст {height}м.\")\n",
    "print(f\"Я студент: {is_student}. Моє улюблене хобі - {hobby[2]}.\")\n",
    "print(f\"Моя оцінка з інформатики: {grades['інформатика']}.\")\n"
   ]
  },
  {
   "cell_type": "code",
   "execution_count": 1,
   "metadata": {},
   "outputs": [
    {
     "name": "stdout",
     "output_type": "stream",
     "text": [
      "Привіт, це моя перша робота з Jupyter Notebook у VS Code!\n",
      "Ім'я: Євген\n",
      "Вік: 25\n",
      "Зріст: 1.8\n",
      "Студент: True\n",
      "Тип змінної name: <class 'str'>\n",
      "Тип змінної age: <class 'int'>\n",
      "Тип змінної height: <class 'float'>\n",
      "Тип змінної is_student: <class 'bool'>\n"
     ]
    }
   ],
   "source": [
    "# Вивід повідомлення\n",
    "print(\"Привіт, це моя перша робота з Jupyter Notebook у VS Code!\")\n",
    "\n",
    "# Оголошення змінних різних типів\n",
    "name = \"Євген\"     # str (рядок)\n",
    "age = 25           # int (ціле число)\n",
    "height = 1.80      # float (дійсне число)\n",
    "is_student = True  # bool (логічне значення)\n",
    "\n",
    "# Виведення значень змінних\n",
    "print(\"Ім'я:\", name)\n",
    "print(\"Вік:\", age)\n",
    "print(\"Зріст:\", height)\n",
    "print(\"Студент:\", is_student)\n",
    "\n",
    "# Виведення типів змінних\n",
    "print(\"Тип змінної name:\", type(name))\n",
    "print(\"Тип змінної age:\", type(age))\n",
    "print(\"Тип змінної height:\", type(height))\n",
    "print(\"Тип змінної is_student:\", type(is_student))\n"
   ]
  },
  {
   "cell_type": "code",
   "execution_count": 11,
   "metadata": {},
   "outputs": [
    {
     "name": "stdout",
     "output_type": "stream",
     "text": [
      "Число 2.0 у квадраті: 4.0\n"
     ]
    }
   ],
   "source": [
    "# Зчитуємо число від користувача\n",
    "user_input = input(\"Введіть число: \")\n",
    "\n",
    "# Перетворюємо з рядка у дійсне число (float)\n",
    "number = float(user_input)\n",
    "\n",
    "# Обчислюємо квадрат числа\n",
    "result = number ** 2\n",
    "\n",
    "# Виводимо результат\n",
    "print(f\"Число {number} у квадраті: {result}\")\n"
   ]
  },
  {
   "cell_type": "code",
   "execution_count": 12,
   "metadata": {},
   "outputs": [
    {
     "name": "stdout",
     "output_type": "stream",
     "text": [
      "Вітаємо! Ви повнолітній.\n"
     ]
    }
   ],
   "source": [
    "# Запитуємо вік у користувача\n",
    "age = int(input(\"Введіть ваш вік: \"))\n",
    "\n",
    "# Перевіряємо статус повноліття\n",
    "if age < 18:\n",
    "    print(\"Ви ще неповнолітній.\")\n",
    "elif age == 18:\n",
    "    print(\"Вітаємо! Ви щойно стали повнолітнім!\")\n",
    "else:\n",
    "    print(\"Вітаємо! Ви повнолітній.\")\n"
   ]
  },
  {
   "cell_type": "code",
   "execution_count": 13,
   "metadata": {},
   "outputs": [
    {
     "name": "stdout",
     "output_type": "stream",
     "text": [
      "\n",
      "Числа від 1 до n+10 (for):\n",
      "1\n",
      "2\n",
      "3\n",
      "4\n",
      "5\n",
      "6\n",
      "7\n",
      "8\n",
      "9\n",
      "10\n",
      "11\n",
      "\n",
      "Числа від n+10 до 1 (while):\n",
      "11\n",
      "10\n",
      "9\n",
      "8\n",
      "7\n",
      "6\n",
      "5\n",
      "4\n",
      "3\n",
      "2\n",
      "1\n"
     ]
    }
   ],
   "source": [
    "# Введіть свій номер у списку\n",
    "n = int(input(\"Введіть свій номер у списку: \"))\n",
    "\n",
    "# 🔹 Цикл for: вивід чисел від 1 до n+10\n",
    "print(\"\\nЧисла від 1 до n+10 (for):\")\n",
    "for i in range(1, n + 11):\n",
    "    print(i)\n",
    "\n",
    "# 🔹 Цикл while: вивід чисел від n+10 до 1\n",
    "print(\"\\nЧисла від n+10 до 1 (while):\")\n",
    "j = n + 10\n",
    "while j >= 1:\n",
    "    print(j)\n",
    "    j -= 1\n"
   ]
  },
  {
   "cell_type": "code",
   "execution_count": 14,
   "metadata": {},
   "outputs": [
    {
     "name": "stdout",
     "output_type": "stream",
     "text": [
      "🖩 Простий калькулятор\n",
      "✅ Результат: 14.0\n"
     ]
    }
   ],
   "source": [
    "print(\"🖩 Простий калькулятор\")\n",
    "\n",
    "# Запитуємо у користувача два числа\n",
    "try:\n",
    "    num1 = float(input(\"Введіть перше число: \"))\n",
    "    num2 = float(input(\"Введіть друге число: \"))\n",
    "except ValueError:\n",
    "    print(\"❌ Помилка: введіть коректні числа!\")\n",
    "    exit()\n",
    "\n",
    "# Запитуємо операцію\n",
    "operation = input(\"Оберіть операцію (+, -, *, /, **, %): \")\n",
    "\n",
    "# Виконуємо обчислення\n",
    "if operation == \"+\":\n",
    "    result = num1 + num2\n",
    "elif operation == \"-\":\n",
    "    result = num1 - num2\n",
    "elif operation == \"*\":\n",
    "    result = num1 * num2\n",
    "elif operation == \"/\":\n",
    "    if num2 == 0:\n",
    "        result = \"❌ Помилка: ділення на нуль!\"\n",
    "    else:\n",
    "        result = num1 / num2\n",
    "elif operation == \"**\":\n",
    "    result = num1 ** num2  # Піднесення до степеня\n",
    "elif operation == \"%\":\n",
    "    if num2 == 0:\n",
    "        result = \"❌ Помилка: ділення на нуль!\"\n",
    "    else:\n",
    "        result = num1 % num2  # Остача від ділення\n",
    "else:\n",
    "    result = \"❌ Невідома операція!\"\n",
    "\n",
    "# Виводимо результат\n",
    "print(\"✅ Результат:\", result)\n"
   ]
  }
 ],
 "metadata": {
  "kernelspec": {
   "display_name": "Python 3",
   "language": "python",
   "name": "python3"
  },
  "language_info": {
   "codemirror_mode": {
    "name": "ipython",
    "version": 3
   },
   "file_extension": ".py",
   "mimetype": "text/x-python",
   "name": "python",
   "nbconvert_exporter": "python",
   "pygments_lexer": "ipython3",
   "version": "3.11.9"
  }
 },
 "nbformat": 4,
 "nbformat_minor": 2
}
