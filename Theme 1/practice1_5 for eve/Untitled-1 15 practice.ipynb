{
 "cells": [
  {
   "cell_type": "code",
   "execution_count": 1,
   "metadata": {},
   "outputs": [
    {
     "ename": "SyntaxError",
     "evalue": "unterminated string literal (detected at line 4) (88708740.py, line 4)",
     "output_type": "error",
     "traceback": [
      "\u001b[1;36m  Cell \u001b[1;32mIn[1], line 4\u001b[1;36m\u001b[0m\n\u001b[1;33m    - **Ім'я:** Євген Кордік\u001b[0m\n\u001b[1;37m          ^\u001b[0m\n\u001b[1;31mSyntaxError\u001b[0m\u001b[1;31m:\u001b[0m unterminated string literal (detected at line 4)\n"
     ]
    }
   ],
   "source": [
    "\"Code\"\n",
    "# Інформація про мене\n",
    "## Особисті дані:\n",
    "- **Ім'я:** Євген Кордік\n",
    "- **Група:** 5202\n",
    "- **Email:** evgenil777121112@gmail.com\n",
    "## Мої захоплення:\n",
    "1. Програмування\n",
    "2. Читання книг\n",
    "3. Спорт\n"
   ]
  },
  {
   "cell_type": "code",
   "execution_count": 2,
   "metadata": {},
   "outputs": [
    {
     "ename": "SyntaxError",
     "evalue": "unterminated string literal (detected at line 4) (88708740.py, line 4)",
     "output_type": "error",
     "traceback": [
      "\u001b[1;36m  Cell \u001b[1;32mIn[2], line 4\u001b[1;36m\u001b[0m\n\u001b[1;33m    - **Ім'я:** Євген Кордік\u001b[0m\n\u001b[1;37m          ^\u001b[0m\n\u001b[1;31mSyntaxError\u001b[0m\u001b[1;31m:\u001b[0m unterminated string literal (detected at line 4)\n"
     ]
    }
   ],
   "source": [
    "\"Code\"\n",
    "# Інформація про мене\n",
    "## Особисті дані:\n",
    "- **Ім'я:** Євген Кордік\n",
    "- **Група:** 5202\n",
    "- **Email:** evgenil777121112@gmail.com\n",
    "## Мої захоплення:\n",
    "1. Програмування\n",
    "2. Читання книг\n",
    "3. Спорт\n"
   ]
  }
 ],
 "metadata": {
  "kernelspec": {
   "display_name": "Python 3",
   "language": "python",
   "name": "python3"
  },
  "language_info": {
   "codemirror_mode": {
    "name": "ipython",
    "version": 3
   },
   "file_extension": ".py",
   "mimetype": "text/x-python",
   "name": "python",
   "nbconvert_exporter": "python",
   "pygments_lexer": "ipython3",
   "version": "3.11.9"
  }
 },
 "nbformat": 4,
 "nbformat_minor": 2
}
